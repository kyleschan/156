{
 "cells": [
  {
   "cell_type": "code",
   "execution_count": 1,
   "metadata": {},
   "outputs": [],
   "source": [
    "%matplotlib inline\n",
    "import matplotlib.pyplot as plt\n",
    "import numpy as np\n",
    "from numpy.linalg import norm, pinv\n",
    "from numpy.random import randint\n",
    "import pandas as pd"
   ]
  },
  {
   "cell_type": "code",
   "execution_count": 2,
   "metadata": {},
   "outputs": [],
   "source": [
    "# Read red wine data from local csv\n",
    "X = pd.read_csv('winequality-red.csv', delimiter=';')\n",
    "\n",
    "# Separate targets t from data X\n",
    "t = X.quality.values\n",
    "X.drop('quality', axis=1, inplace=True)"
   ]
  },
  {
   "cell_type": "code",
   "execution_count": 3,
   "metadata": {},
   "outputs": [],
   "source": [
    "# Mean squared error function\n",
    "def MSE(X, w, t):\n",
    "    residuals = X @ w - t\n",
    "    N = X.shape[0]\n",
    "    return np.dot(residuals, residuals) / N"
   ]
  },
  {
   "cell_type": "code",
   "execution_count": 4,
   "metadata": {},
   "outputs": [
    {
     "data": {
      "text/plain": [
       "0.4170492248204846"
      ]
     },
     "execution_count": 4,
     "metadata": {},
     "output_type": "execute_result"
    }
   ],
   "source": [
    "X_dag = pinv(X)    # dag = dagger for Moore-Penrose\n",
    "w_ML = X_dag @ t\n",
    "\n",
    "# Get MSE of w*\n",
    "MSE(X, w_ML, t)"
   ]
  },
  {
   "cell_type": "code",
   "execution_count": 5,
   "metadata": {},
   "outputs": [],
   "source": [
    "# Least-Mean-Squares Algorithm\n",
    "def LMS(X, t, iterations, w_ML=None):\n",
    "    w = np.zeros(X.shape[1])                       # Inital w is 0\n",
    "    N = X.shape[0]                                 # N = # of rows in X\n",
    "    unif_draws = randint(0, N, size=iterations)    # Pre-compute random draws\n",
    "    w_dist = []\n",
    "    for n in unif_draws:\n",
    "        if w_ML is not None:\n",
    "            w_dist.append(norm(w - w_ML))          # Compute distance from w*\n",
    "        t_n = t[n]                                 # n-th target\n",
    "        X_n = X.loc[n, :]                          # n-th row of X\n",
    "        w = w + (t_n - np.dot(w, X_n)) / (norm(X_n) ** 2) * X_n   # Update w\n",
    "    if w_ML is not None:\n",
    "        w_dist.append(norm(w - w_ML))\n",
    "    return w, w_dist"
   ]
  },
  {
   "cell_type": "code",
   "execution_count": 6,
   "metadata": {},
   "outputs": [],
   "source": [
    "# Get 100,000th iteration of LMS and its convergence history\n",
    "w_LMS, w_dist = LMS(X, t, 100000, w_ML=w_ML)"
   ]
  },
  {
   "cell_type": "code",
   "execution_count": 7,
   "metadata": {},
   "outputs": [
    {
     "data": {
      "text/plain": [
       "0.48729553006461557"
      ]
     },
     "execution_count": 7,
     "metadata": {},
     "output_type": "execute_result"
    }
   ],
   "source": [
    "# Get MSE of 100,000th iteration of LMS\n",
    "MSE(X, w_LMS, t)"
   ]
  },
  {
   "cell_type": "code",
   "execution_count": 8,
   "metadata": {},
   "outputs": [
    {
     "data": {
      "text/plain": [
       "[<matplotlib.lines.Line2D at 0x2b5f3fe6610>]"
      ]
     },
     "execution_count": 8,
     "metadata": {},
     "output_type": "execute_result"
    },
    {
     "data": {
      "image/png": "[encoded data removed]",
      "text/plain": [
       "<Figure size 432x288 with 1 Axes>"
      ]
     },
     "metadata": {},
     "output_type": "display_data"
    }
   ],
   "source": [
    "# Plot convergence to w*\n",
    "plt.style.use('ggplot')\n",
    "fig, ax = plt.subplots()\n",
    "ax.set_title(r'$\\mathbf{w}^* - \\mathbf{w}^{(k)}$ Over $k$ Iterations')\n",
    "ax.set_xlabel('$k$')\n",
    "ax.set_ylabel(r'$\\mathbf{w}^* - \\mathbf{w}^{(k)}$')\n",
    "ax.plot(range(100001), w_dist)"
   ]
  },
  {
   "cell_type": "code",
   "execution_count": null,
   "metadata": {},
   "outputs": [],
   "source": []
  }
 ],
 "metadata": {
  "kernelspec": {
   "display_name": "Python (finance)",
   "language": "python",
   "name": "finance"
  },
  "language_info": {
   "codemirror_mode": {
    "name": "ipython",
    "version": 3
   },
   "file_extension": ".py",
   "mimetype": "text/x-python",
   "name": "python",
   "nbconvert_exporter": "python",
   "pygments_lexer": "ipython3",
   "version": "3.8.5"
  }
 },
 "nbformat": 4,
 "nbformat_minor": 4
}
